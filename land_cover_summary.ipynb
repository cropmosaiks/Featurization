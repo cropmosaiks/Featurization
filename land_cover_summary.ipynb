{
 "cells": [
  {
   "cell_type": "markdown",
   "id": "202c190d-435b-4fea-82ed-cabc2b706797",
   "metadata": {},
   "source": [
    "# io-lulc-9-class dataset issue\n",
    "\n",
    "The end goal of this workflow is to get the percentage of crop land for a set of points associated with the surrounding 1 $km^2$ regions. The percentage of crop land will then be added as a column to the features created with the mosaiks notebook at the same points. The percentage crop land of a point will be used as a wieght for the weighted average of features inside of an administrative boundary, in this example, the districts inside the country of Zambia. \n",
    "\n",
    "This general workflow is ideal for our use only in the sense that it matches well with the mosaiks example notebook and would integrate nicely into the work we have done to build from that baseline. That being said, we are open to other methods which give us our desired reults. \n",
    "\n",
    "This notebook reproduces an issue where the workflow produces empty values at the UTM zones delineations at every $6^o$ longitude. It also causes empty values at every $8^o$ latitude. We were able to solve the issue with the vertical lines of empty values but not with the horizontal lines. "
   ]
  },
  {
   "cell_type": "code",
   "execution_count": 1,
   "id": "8eebd06d-89af-48fe-a0e0-0543612dda09",
   "metadata": {
    "tags": []
   },
   "outputs": [],
   "source": [
    "!pip install -q git+https://github.com/geopandas/dask-geopandas\n",
    "RASTERIO_BEST_PRACTICES = dict(  # See https://github.com/pangeo-data/cog-best-practices\n",
    "    CURL_CA_BUNDLE=\"/etc/ssl/certs/ca-certificates.crt\",\n",
    "    GDAL_DISABLE_READDIR_ON_OPEN=\"EMPTY_DIR\",\n",
    "    AWS_NO_SIGN_REQUEST=\"YES\",\n",
    "    GDAL_MAX_RAW_BLOCK_CACHE_SIZE=\"200000000\",\n",
    "    GDAL_SWATH_SIZE=\"200000000\",\n",
    "    VSI_CURL_CACHE_SIZE=\"200000000\",\n",
    ")\n",
    "import os\n",
    "import time\n",
    "os.environ.update(RASTERIO_BEST_PRACTICES)\n",
    "import numpy as np\n",
    "import pandas as pd\n",
    "import matplotlib.pyplot as plt\n",
    "import torch\n",
    "import torch.nn as nn\n",
    "import torch.nn.functional as F\n",
    "from torch.utils.data import Dataset, DataLoader\n",
    "import rasterio\n",
    "import rasterio.warp\n",
    "import rasterio.mask\n",
    "import shapely.geometry\n",
    "import geopandas\n",
    "import dask_geopandas\n",
    "from dask.distributed import Client\n",
    "from pystac.extensions.item_assets import ItemAssetsExtension\n",
    "import pystac_client\n",
    "import planetary_computer as pc"
   ]
  },
  {
   "cell_type": "markdown",
   "id": "6e90c55c-4480-44e6-a866-a2adf1d3ff95",
   "metadata": {},
   "source": [
    "### Create a sparse grid of points over Zambia "
   ]
  },
  {
   "cell_type": "code",
   "execution_count": 2,
   "id": "b00204ea-9e1c-4495-a922-31ab1e71f3ac",
   "metadata": {
    "tags": []
   },
   "outputs": [],
   "source": [
    "# Set params\n",
    "country_code = 'ZMB'\n",
    "year = 2021\n",
    "geodetic_epsg = 'EPSG:4326'\n",
    "# get country shape\n",
    "world = geopandas.read_file(geopandas.datasets.get_path('naturalearth_lowres'))\n",
    "country = world.query(f'iso_a3 == \"{country_code}\"')\n",
    "# Create grid of points\n",
    "cell_size = .15  # Very roughly 10 km\n",
    "xmin, ymin, xmax, ymax = country.total_bounds\n",
    "xs = list(np.arange(xmin, xmax + cell_size, cell_size))\n",
    "ys = list(np.arange(ymin, ymax + cell_size, cell_size))\n",
    "def make_cell(x, y, cell_size):\n",
    "    ring = [\n",
    "        (x, y),\n",
    "        (x + cell_size, y),\n",
    "        (x + cell_size, y + cell_size),\n",
    "        (x, y + cell_size)\n",
    "    ]\n",
    "    cell = shapely.geometry.Polygon(ring).centroid\n",
    "    return cell\n",
    "points = []\n",
    "for x in xs:\n",
    "    for y in ys:\n",
    "        cell = make_cell(x, y, cell_size)\n",
    "        points.append(cell)\n",
    "# Put grid into a GeDataFrame\n",
    "gdf = geopandas.GeoDataFrame({'geometry': points}, crs = geodetic_epsg)\n",
    "gdf['lon'], gdf['lat'] = gdf.geometry.x, gdf.geometry.y\n",
    "# subset to country \n",
    "# gdf = gdf[gdf.within(country.unary_union)]\n",
    "gdf = gdf[['lon', 'lat', 'geometry']].reset_index(drop = True)"
   ]
  },
  {
   "cell_type": "code",
   "execution_count": 3,
   "id": "2a21c6c1-97a9-4eff-b4b4-9bac4f9ffe2f",
   "metadata": {
    "tags": []
   },
   "outputs": [
    {
     "data": {
      "text/plain": [
       "(5214, 3)"
      ]
     },
     "execution_count": 3,
     "metadata": {},
     "output_type": "execute_result"
    }
   ],
   "source": [
    "gdf.shape"
   ]
  },
  {
   "cell_type": "markdown",
   "id": "8763de82-c7b9-4226-8d04-6d96f59b5a95",
   "metadata": {},
   "source": [
    "### Sort by hilbert distance"
   ]
  },
  {
   "cell_type": "code",
   "execution_count": 4,
   "id": "c91a455b-b8cc-456c-a0a3-0ed22f4aa119",
   "metadata": {
    "tags": []
   },
   "outputs": [],
   "source": [
    "# sort by hilbert distance\n",
    "NPARTITIONS = 250\n",
    "ddf = dask_geopandas.from_geopandas(gdf, npartitions=1)\n",
    "hd = ddf.hilbert_distance().compute()\n",
    "gdf[\"hd\"] = hd\n",
    "gdf = gdf.sort_values(\"hd\")\n",
    "dgdf = dask_geopandas.from_geopandas(gdf, npartitions=NPARTITIONS, sort=False)"
   ]
  },
  {
   "cell_type": "markdown",
   "id": "d7dae153-1c8c-4cbf-9715-2c1edf63ad12",
   "metadata": {},
   "source": [
    "### Find the value for Crops in the io-lulc-9-class dataset"
   ]
  },
  {
   "cell_type": "code",
   "execution_count": 5,
   "id": "f1e7cf25-679f-4eb3-9ecf-10b032cea28d",
   "metadata": {
    "tags": []
   },
   "outputs": [],
   "source": [
    "# Get the value for Crop land in the data\n",
    "catalog = pystac_client.Client.open(\n",
    "    \"https://planetarycomputer.microsoft.com/api/stac/v1\"\n",
    ")\n",
    "collection = catalog.get_collection(\"io-lulc-9-class\")\n",
    "ia = ItemAssetsExtension.ext(collection)\n",
    "x = ia.item_assets[\"data\"]\n",
    "class_names = {x[\"summary\"]: x[\"values\"][0] for x in x.properties[\"file:values\"]}\n",
    "values_to_classes = {v: k for k, v in class_names.items()}\n",
    "crop_value = class_names['Crops']"
   ]
  },
  {
   "cell_type": "markdown",
   "id": "38846631-7fbc-46f8-9a47-524560fbee59",
   "metadata": {},
   "source": [
    "### Create the query"
   ]
  },
  {
   "cell_type": "code",
   "execution_count": 6,
   "id": "a86af351-6fc3-411b-b56d-5631ef07b0d1",
   "metadata": {
    "tags": []
   },
   "outputs": [],
   "source": [
    "# Define the query\n",
    "def query(points):\n",
    "    \"\"\"\n",
    "    Find a STAC item for points in the `points` DataFrame\n",
    "\n",
    "    Parameters\n",
    "    ----------\n",
    "    points : geopandas.GeoDataFrame\n",
    "        A GeoDataFrame\n",
    "\n",
    "    Returns\n",
    "    -------\n",
    "    geopandas.GeoDataFrame\n",
    "        A new geopandas.GeoDataFrame with a `stac_item` column containing the STAC\n",
    "        item that covers each point.\n",
    "    \"\"\"\n",
    "    intersects = shapely.geometry.mapping(points.unary_union.convex_hull)\n",
    "    catalog = pystac_client.Client.open(\n",
    "        \"https://planetarycomputer.microsoft.com/api/stac/v1\"\n",
    "    )\n",
    "    search = catalog.search(\n",
    "        collections=[\"io-lulc-9-class\"],\n",
    "        intersects=intersects,\n",
    "        datetime=[\"2019-01-01\", \"2019-12-31\"],\n",
    "    )\n",
    "    ic = search.get_all_items_as_dict()\n",
    "    features = ic[\"features\"]\n",
    "    features_d = {item[\"id\"]: item for item in features}\n",
    "    data = {\"geometry\": [],}\n",
    "    index = []\n",
    "    for item in features:\n",
    "        data[\"geometry\"].append(shapely.geometry.shape(item[\"geometry\"]))\n",
    "        index.append(item[\"id\"])\n",
    "    items = geopandas.GeoDataFrame(data, index=index, geometry=\"geometry\")\n",
    "    point_list = points.geometry.tolist()\n",
    "    point_items = []\n",
    "    for point in point_list:\n",
    "        covered_by = items[items.covers(point)]\n",
    "        if len(covered_by):\n",
    "            point_items.append(features_d[covered_by.index[0]])\n",
    "        else:\n",
    "            # There weren't any scenes matching our conditions for this point (too cloudy)\n",
    "            point_items.append(None)\n",
    "\n",
    "    return points.assign(stac_item=point_items)"
   ]
  },
  {
   "cell_type": "markdown",
   "id": "ded6975e-ffce-4c7a-a8e8-c4b2ab8ab006",
   "metadata": {},
   "source": [
    "### Match points to images"
   ]
  },
  {
   "cell_type": "code",
   "execution_count": 7,
   "id": "8f8b7d94-cb69-4d30-a4e0-0e3d01ea0a07",
   "metadata": {
    "tags": []
   },
   "outputs": [],
   "source": [
    "with Client(n_workers=16) as client:\n",
    "    meta = dgdf._meta.assign(stac_item=[])\n",
    "    df2 = dgdf.map_partitions(query, meta=meta).compute()\n",
    "df3 = df2.dropna(subset=[\"stac_item\"]).reset_index()\n",
    "# matching_urls = [\n",
    "#     pc.sign(item[\"assets\"][\"data\"][\"href\"]) for item in df3.stac_item.tolist()\n",
    "# ]\n",
    "# Define the points list \n",
    "points = df3[[\"lon\", \"lat\"]].to_numpy()"
   ]
  },
  {
   "cell_type": "markdown",
   "id": "5c73c238-d84d-420a-ae2b-f464c2a5d1e0",
   "metadata": {},
   "source": [
    "### Define the custom dataset and data loader"
   ]
  },
  {
   "cell_type": "code",
   "execution_count": 8,
   "id": "2e277461-569e-46a0-b632-2fbf49d06416",
   "metadata": {
    "tags": []
   },
   "outputs": [],
   "source": [
    "# class CustomDataset(Dataset):\n",
    "#     def __init__(self, points, fns, buffer=500):\n",
    "#         self.points = points\n",
    "#         self.fns = fns\n",
    "#         self.buffer = buffer\n",
    "\n",
    "#     def __len__(self):\n",
    "#         return self.points.shape[0]\n",
    "\n",
    "#     def __getitem__(self, idx):\n",
    "\n",
    "#         lon, lat = self.points[idx]\n",
    "#         fn = self.fns[idx]\n",
    "        \n",
    "#         if fn is None:\n",
    "#             return None\n",
    "#         else:\n",
    "#             point_geom = shapely.geometry.mapping(shapely.geometry.Point(lon, lat))\n",
    "            \n",
    "#             with rasterio.Env():\n",
    "#                 with rasterio.open(fn, \"r\") as f:\n",
    "#                     point_geom = rasterio.warp.transform_geom(\n",
    "#                         \"epsg:4326\", \n",
    "#                         f.crs.to_string(),\n",
    "#                         point_geom\n",
    "#                     )\n",
    "#                     point_shape = shapely.geometry.shape(point_geom)\n",
    "#                     mask_shape = point_shape.buffer(self.buffer).envelope\n",
    "#                     mask_geom = shapely.geometry.mapping(mask_shape)\n",
    "#                     try:\n",
    "#                         out_image, out_transform = rasterio.mask.mask(\n",
    "#                             f, [mask_geom], crop=True\n",
    "#                         )\n",
    "#                     except ValueError as e:\n",
    "#                         if \"Input shapes do not overlap raster.\" in str(e):\n",
    "#                             return None\n",
    "\n",
    "#             out_image = out_image.squeeze()\n",
    "#             out_image = torch.from_numpy(out_image).float()\n",
    "#             return out_image\n",
    "# # Create the dataset\n",
    "# dataset = CustomDataset(points, matching_urls)\n",
    "# dataloader = DataLoader(\n",
    "#     dataset,\n",
    "#     batch_size=8,\n",
    "#     shuffle=False,\n",
    "#     num_workers=os.cpu_count()*2,\n",
    "#     collate_fn=lambda x: x,\n",
    "#     pin_memory=False,\n",
    "# )"
   ]
  },
  {
   "cell_type": "markdown",
   "id": "c7587a2e-ff44-4d96-87ed-9dc7d221e479",
   "metadata": {},
   "source": [
    "### Calculate the percentage of cropped area around each 1 km region"
   ]
  },
  {
   "cell_type": "code",
   "execution_count": 9,
   "id": "85382c91-6edc-4ea3-9129-be874ff9239b",
   "metadata": {
    "tags": []
   },
   "outputs": [],
   "source": [
    "# %%time\n",
    "# x_all = np.zeros((points.shape[0], 1), dtype=float)\n",
    "# tic = time.time()\n",
    "# i = 0\n",
    "# for images in dataloader:\n",
    "#     for image in images:\n",
    "\n",
    "#         if type(image) == torch.Tensor:  #### This was added because of the empty points\n",
    "#             crops = (image == crop_value).sum() / image.numel()\n",
    "#             x_all[i] = crops.item()\n",
    "#         else:\n",
    "#             x_all[i] = float(\"NaN\")\n",
    "            \n",
    "#         if i % 3000 == 0:\n",
    "#             print(\n",
    "#                 f\"{i}/{points.shape[0]} -- {i / points.shape[0] * 100:0.2f}%\"\n",
    "#                 + f\" -- {time.time()-tic:0.2f} seconds\"\n",
    "#             )\n",
    "#             tic = time.time()\n",
    "#         i += 1"
   ]
  },
  {
   "cell_type": "markdown",
   "id": "8815dea4-5013-4b19-abce-6bf64a4d40a9",
   "metadata": {},
   "source": [
    "### Plot the results"
   ]
  },
  {
   "cell_type": "code",
   "execution_count": 10,
   "id": "ab924182-7e69-4012-9de1-932d6fbcf8ef",
   "metadata": {
    "tags": []
   },
   "outputs": [],
   "source": [
    "# crops = pd.DataFrame({'crop_perc': x_all.squeeze()})\n",
    "# crops[[\"lon\", \"lat\"]] = points.tolist()\n",
    "# plt.figure(figsize = (12,10))\n",
    "# plt.scatter(crops.lon, crops.lat, c=crops.crop_perc, \n",
    "#             # s=16   ,\n",
    "#             marker=\",\"\n",
    "#            )"
   ]
  },
  {
   "cell_type": "markdown",
   "id": "a622370c-f738-417f-8ecf-49791e23b9ef",
   "metadata": {},
   "source": [
    "### Manually fix the vertical lines caused by the UTM zone delineation"
   ]
  },
  {
   "cell_type": "code",
   "execution_count": 11,
   "id": "63e78bbf-0a38-4b5d-a2b1-3f92668f9fc8",
   "metadata": {},
   "outputs": [],
   "source": [
    "# class CustomDataset(Dataset):\n",
    "#     def __init__(self, points, fns, buffer=500):\n",
    "#         self.points = points\n",
    "#         self.fns = fns\n",
    "#         self.buffer = buffer\n",
    "\n",
    "#     def __len__(self):\n",
    "#         return self.points.shape[0]\n",
    "\n",
    "#     def __getitem__(self, idx):\n",
    "\n",
    "#         lon, lat = self.points[idx]\n",
    "#         fn = self.fns[idx]\n",
    "        \n",
    "#         if lon >= 18.0 and lon < 24.0: ##### This fix does not scale well globally \n",
    "#             epsg = 32734\n",
    "#         elif lon >= 24.0 and lon < 30.0:\n",
    "#             epsg = 32735\n",
    "#         else:\n",
    "#             epsg = 32736\n",
    "        \n",
    "#         if fn is None:\n",
    "#             return None\n",
    "#         else:\n",
    "#             point_geom = shapely.geometry.mapping(shapely.geometry.Point(lon, lat))\n",
    "            \n",
    "#             with rasterio.Env():\n",
    "#                 with rasterio.open(fn, \"r\") as f:\n",
    "#                     point_geom = rasterio.warp.transform_geom(\n",
    "#                         \"epsg:4326\", \n",
    "#                         epsg,               ###### If I set this manually based on the if statement above it \n",
    "#                         # f.crs.to_string(),###### solves the vertical gaps, but not the horizontal gaps\n",
    "#                         point_geom\n",
    "#                     )\n",
    "#                     point_shape = shapely.geometry.shape(point_geom)\n",
    "#                     mask_shape = point_shape.buffer(self.buffer).envelope\n",
    "#                     mask_geom = shapely.geometry.mapping(mask_shape)\n",
    "#                     try:\n",
    "#                         out_image, out_transform = rasterio.mask.mask(\n",
    "#                             f, [mask_geom], crop=True\n",
    "#                         )\n",
    "#                     except ValueError as e:\n",
    "#                         if \"Input shapes do not overlap raster.\" in str(e):\n",
    "#                             return None\n",
    "\n",
    "#             out_image = out_image.squeeze()\n",
    "#             out_image = torch.from_numpy(out_image).float()\n",
    "#             return out_image\n",
    "# # Create the dataset\n",
    "# dataset = CustomDataset(points, matching_urls)\n",
    "# dataloader = DataLoader(\n",
    "#     dataset,\n",
    "#     batch_size=8,\n",
    "#     shuffle=False,\n",
    "#     num_workers=os.cpu_count()*2,\n",
    "#     collate_fn=lambda x: x,\n",
    "#     pin_memory=False,\n",
    "# )\n",
    "# # Calculate the percentage of cropped area around each 1 km region\n",
    "# x_all = np.zeros((points.shape[0], 1), dtype=float)\n",
    "# i = 0\n",
    "# for images in dataloader:\n",
    "#     for image in images:\n",
    "\n",
    "#         if type(image) == torch.Tensor:  #### This was added because of the empty points\n",
    "#             crops = (image == crop_value).sum() / image.numel()\n",
    "#             x_all[i] = crops.item()\n",
    "#         else:\n",
    "#             x_all[i] = float(\"NaN\")\n",
    "#         if i % 3000 == 0:\n",
    "#             print(\n",
    "#                 f\"{i}/{points.shape[0]} -- {i / points.shape[0] * 100:0.2f}%\"\n",
    "#                 + f\" -- {time.time()-tic:0.2f} seconds\"\n",
    "#             )\n",
    "#             tic = time.time()\n",
    "#         i += 1"
   ]
  },
  {
   "cell_type": "code",
   "execution_count": 12,
   "id": "f7a41683-29cd-4c3f-97f7-e68c903bb01a",
   "metadata": {},
   "outputs": [],
   "source": [
    "# crops = pd.DataFrame({'crop_perc': x_all.squeeze()})\n",
    "# crops[[\"lon\", \"lat\"]] = points.tolist()\n",
    "# plt.figure(figsize = (12,10))\n",
    "# plt.scatter(crops.lon, crops.lat, c=crops.crop_perc, \n",
    "#             # s=15,\n",
    "#             marker=\",\"\n",
    "#            )"
   ]
  },
  {
   "cell_type": "code",
   "execution_count": null,
   "id": "d9c2953b-f188-44f5-b9e1-0e73bf965753",
   "metadata": {},
   "outputs": [],
   "source": []
  },
  {
   "cell_type": "code",
   "execution_count": null,
   "id": "70ff7ac8-c126-4e28-a288-9a0465ed500e",
   "metadata": {},
   "outputs": [],
   "source": []
  },
  {
   "cell_type": "code",
   "execution_count": 13,
   "id": "4ff77c75-3eae-4845-b62e-a0144c4f43fa",
   "metadata": {},
   "outputs": [],
   "source": [
    "import warnings\n",
    "\n",
    "from pystac import Item\n",
    "import stackstac\n",
    "import pyproj\n",
    "from pystac.extensions.raster import RasterExtension as raster\n",
    "from pystac.extensions.projection import ProjectionExtension as proj\n",
    "\n",
    "warnings.filterwarnings(action=\"ignore\", category=FutureWarning)"
   ]
  },
  {
   "cell_type": "code",
   "execution_count": 14,
   "id": "097bf3ba-ba38-4249-b984-9fb6c22cbed6",
   "metadata": {},
   "outputs": [],
   "source": [
    "matching_items = []\n",
    "for item in df3.stac_item.tolist():\n",
    "    signed_item = pc.sign(Item.from_dict(item))\n",
    "    matching_items.append(signed_item)"
   ]
  },
  {
   "cell_type": "code",
   "execution_count": 21,
   "id": "b051cb97-efb9-4e4b-b319-7e93f4385ca6",
   "metadata": {},
   "outputs": [],
   "source": [
    "class CustomDataset(Dataset):\n",
    "    def __init__(self, points, fns, buffer=500):\n",
    "        self.points = points\n",
    "        self.fns = fns\n",
    "        self.buffer = buffer\n",
    "\n",
    "    def __len__(self):\n",
    "        return self.points.shape[0]\n",
    "\n",
    "    def __getitem__(self, idx):\n",
    "\n",
    "        lon, lat = self.points[idx]\n",
    "        fn = self.fns[idx]\n",
    "\n",
    "        if fn is None:\n",
    "            return None\n",
    "        else:        \n",
    "\n",
    "            if lon >= 18.0 and lon < 24.0: ##### This fix does not scale well globally \n",
    "                epsg = 32734\n",
    "            elif lon >= 24.0 and lon < 30.0:\n",
    "                epsg = 32735\n",
    "            else:\n",
    "                epsg = 32736\n",
    "            \n",
    "            stack = stackstac.stack(\n",
    "                fn,\n",
    "                dtype=np.ubyte,\n",
    "                fill_value=255,\n",
    "                epsg = epsg\n",
    "            )\n",
    "            \n",
    "            x_utm, y_utm = pyproj.Proj(stack.crs)(lon, lat)\n",
    "            aoi = stack.loc[..., y_utm+self.buffer:y_utm-self.buffer, x_utm-self.buffer:x_utm+self.buffer]\n",
    "            data = aoi.compute(scheduler=\"single-threaded\")\n",
    "            out_image = data.data \n",
    "            \n",
    "            out_image = out_image.squeeze()\n",
    "            out_image = torch.from_numpy(out_image).float()\n",
    "            return out_image"
   ]
  },
  {
   "cell_type": "code",
   "execution_count": 22,
   "id": "ea89f6a3-e195-434c-98f1-d013a0ad1abe",
   "metadata": {},
   "outputs": [],
   "source": [
    "dataset = CustomDataset(points, matching_items)"
   ]
  },
  {
   "cell_type": "code",
   "execution_count": 23,
   "id": "02f8e6a9-59d2-4b4f-9a74-010a79449f94",
   "metadata": {},
   "outputs": [
    {
     "data": {
      "text/plain": [
       "tensor([[11., 11., 11.,  ..., 11., 11., 11.],\n",
       "        [11., 11., 11.,  ..., 11., 11., 11.],\n",
       "        [11., 11., 11.,  ..., 11., 11., 11.],\n",
       "        ...,\n",
       "        [11., 11., 11.,  ..., 11., 11., 11.],\n",
       "        [11., 11., 11.,  ..., 11., 11., 11.],\n",
       "        [11., 11., 11.,  ..., 11., 11., 11.]])"
      ]
     },
     "execution_count": 23,
     "metadata": {},
     "output_type": "execute_result"
    }
   ],
   "source": [
    "img = dataset[0]\n",
    "img"
   ]
  },
  {
   "cell_type": "code",
   "execution_count": 24,
   "id": "0cf71182-a2ac-45d7-a4d0-945627ef0a79",
   "metadata": {},
   "outputs": [
    {
     "name": "stderr",
     "output_type": "stream",
     "text": [
      "/srv/conda/envs/notebook/lib/python3.8/site-packages/torch/utils/data/dataloader.py:478: UserWarning: This DataLoader will create 8 worker processes in total. Our suggested max number of worker in current system is 4, which is smaller than what this DataLoader is going to create. Please be aware that excessive worker creation might get DataLoader running slow or even freeze, lower the worker number to avoid potential slowness/freeze if necessary.\n",
      "  warnings.warn(_create_warning_msg(\n"
     ]
    }
   ],
   "source": [
    "dataloader = DataLoader(\n",
    "    dataset,\n",
    "    batch_size=8,\n",
    "    shuffle=False,\n",
    "    num_workers=os.cpu_count()*2,\n",
    "    collate_fn=lambda x: x,\n",
    "    pin_memory=False,\n",
    ")"
   ]
  },
  {
   "cell_type": "code",
   "execution_count": 25,
   "id": "1ebc370f-a35e-4972-8e96-e1dcc29c19ce",
   "metadata": {},
   "outputs": [
    {
     "name": "stdout",
     "output_type": "stream",
     "text": [
      "0/5214 -- 0.00% -- 5.51 seconds\n",
      "500/5214 -- 9.59% -- 46.40 seconds\n",
      "1000/5214 -- 19.18% -- 47.75 seconds\n",
      "1500/5214 -- 28.77% -- 51.76 seconds\n",
      "2000/5214 -- 38.36% -- 116.12 seconds\n",
      "2500/5214 -- 47.95% -- 49.65 seconds\n",
      "3000/5214 -- 57.54% -- 52.78 seconds\n",
      "3500/5214 -- 67.13% -- 46.50 seconds\n",
      "4000/5214 -- 76.72% -- 115.67 seconds\n",
      "4500/5214 -- 86.31% -- 50.87 seconds\n",
      "5000/5214 -- 95.90% -- 52.14 seconds\n",
      "CPU times: user 1.21 s, sys: 481 ms, total: 1.69 s\n",
      "Wall time: 10min 50s\n"
     ]
    }
   ],
   "source": [
    "%%time\n",
    "x_all = np.zeros((points.shape[0], 1), dtype=float)\n",
    "tic = time.time()\n",
    "i = 0\n",
    "for images in dataloader:\n",
    "    for image in images:\n",
    "\n",
    "        if type(image) == torch.Tensor:  #### This was added because of the empty points\n",
    "            crops = (image == crop_value).sum() / image.numel()\n",
    "            x_all[i] = crops.item()\n",
    "        else:\n",
    "            x_all[i] = float(\"NaN\")\n",
    "            \n",
    "        if i % 500 == 0:\n",
    "            print(\n",
    "                f\"{i}/{points.shape[0]} -- {i / points.shape[0] * 100:0.2f}%\"\n",
    "                + f\" -- {time.time()-tic:0.2f} seconds\"\n",
    "            )\n",
    "            tic = time.time()\n",
    "        i += 1"
   ]
  },
  {
   "cell_type": "code",
   "execution_count": 29,
   "id": "5357df62-79f5-488d-9147-7cbd853bba21",
   "metadata": {},
   "outputs": [
    {
     "data": {
      "text/plain": [
       "<matplotlib.collections.PathCollection at 0x7f1388e208b0>"
      ]
     },
     "execution_count": 29,
     "metadata": {},
     "output_type": "execute_result"
    },
    {
     "data": {
      "image/png": "[encoded data removed]",
      "text/plain": [
       "<Figure size 864x720 with 1 Axes>"
      ]
     },
     "metadata": {
      "needs_background": "light"
     },
     "output_type": "display_data"
    }
   ],
   "source": [
    "crops = pd.DataFrame({'crop_perc': x_all.squeeze()})\n",
    "crops[[\"lon\", \"lat\"]] = points.tolist()\n",
    "plt.figure(figsize = (12,10))\n",
    "plt.scatter(crops.lon, crops.lat, c=crops.crop_perc, \n",
    "            s=50,\n",
    "            marker=\",\"\n",
    "           )"
   ]
  },
  {
   "cell_type": "code",
   "execution_count": null,
   "id": "e7361316-0e88-4b2c-a066-247c6639991d",
   "metadata": {},
   "outputs": [],
   "source": []
  }
 ],
 "metadata": {
  "kernelspec": {
   "display_name": "Python 3 (ipykernel)",
   "language": "python",
   "name": "python3"
  },
  "language_info": {
   "codemirror_mode": {
    "name": "ipython",
    "version": 3
   },
   "file_extension": ".py",
   "mimetype": "text/x-python",
   "name": "python",
   "nbconvert_exporter": "python",
   "pygments_lexer": "ipython3",
   "version": "3.8.12"
  }
 },
 "nbformat": 4,
 "nbformat_minor": 5
}
