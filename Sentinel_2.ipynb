{
 "cells": [
  {
   "cell_type": "markdown",
   "id": "440e592b-c09d-4e75-91fc-00e5d36d391d",
   "metadata": {},
   "source": [
    "## MOSAIKS feature extraction\n",
    "\n",
    "This tutorial demonstrates the **MOSAIKS** method for extracting _feature vectors_ from satellite imagery patches for use in downstream modeling tasks. It will show:\n",
    "- How to extract 1km$^2$ patches of Sentinel 2 multispectral imagery for a list of latitude, longitude points\n",
    "- How to extract summary features from each of these imagery patches\n",
    "- How to use the summary features in a linear model of the population density at each point\n",
    "\n",
    "### Background\n",
    "\n",
    "Consider the case where you have a dataset of latitude and longitude points assosciated with some dependent variable (for example: population density, weather, housing prices, biodiversity) and, potentially, other independent variables. You would like to model the dependent variable as a function of the independent variables, but instead of including latitude and longitude directly in this model, you would like to include some high dimensional representation of what the Earth looks like at that point (that hopefully explains some of the variance in the dependent variable!). From the computer vision literature, there are various [representation learning techniques](https://en.wikipedia.org/wiki/Feature_learning) that can be used to do this, i.e. extract _features vectors_ from imagery. This notebook gives an implementation of the technique described in [Rolf et al. 2021](https://www.nature.com/articles/s41467-021-24638-z), \"A generalizable and accessible approach to machine learning with global satellite imagery\" called Multi-task Observation using Satellite Imagery & Kitchen Sinks (**MOSAIKS**). For more information about **MOSAIKS** see the [project's webpage](http://www.globalpolicy.science/mosaiks).\n",
    "\n",
    "\n",
    "**Notes**:\n",
    "- This example uses [Sentinel-2 Level-2A data](https://planetarycomputer.microsoft.com/dataset/sentinel-2-l2a). The techniques used here apply equally well to other remote-sensing datasets.\n",
    "- If you're running this on the [Planetary Computer Hub](http://planetarycomputer.microsoft.com/compute), make sure to choose the **GPU - PyTorch** profile when presented with the form to choose your environment."
   ]
  },
  {
   "cell_type": "code",
   "execution_count": 1,
   "id": "522ab90b-af76-477d-a930-4d63c6847028",
   "metadata": {},
   "outputs": [],
   "source": [
    "!pip install -q git+https://github.com/geopandas/dask-geopandas"
   ]
  },
  {
   "cell_type": "code",
   "execution_count": 2,
   "id": "281d0543-f6b0-4b68-a4ba-a99c547b00c8",
   "metadata": {},
   "outputs": [],
   "source": [
    "import warnings\n",
    "import time\n",
    "import os\n",
    "import gc\n",
    "\n",
    "RASTERIO_BEST_PRACTICES = dict(  # See https://github.com/pangeo-data/cog-best-practices\n",
    "    CURL_CA_BUNDLE=\"/etc/ssl/certs/ca-certificates.crt\",\n",
    "    GDAL_DISABLE_READDIR_ON_OPEN=\"EMPTY_DIR\",\n",
    "    AWS_NO_SIGN_REQUEST=\"YES\",\n",
    "    GDAL_MAX_RAW_BLOCK_CACHE_SIZE=\"200000000\",\n",
    "    GDAL_SWATH_SIZE=\"200000000\",\n",
    "    VSI_CURL_CACHE_SIZE=\"200000000\",\n",
    ")\n",
    "os.environ.update(RASTERIO_BEST_PRACTICES)\n",
    "\n",
    "import numpy as np\n",
    "import pandas as pd\n",
    "import matplotlib.pyplot as plt\n",
    "\n",
    "import torch\n",
    "import torch.nn as nn\n",
    "import torch.nn.functional as F\n",
    "from torch.utils.data import Dataset, DataLoader\n",
    "\n",
    "import rasterio\n",
    "import rasterio.warp\n",
    "import rasterio.mask\n",
    "import shapely.geometry\n",
    "import geopandas\n",
    "import dask_geopandas\n",
    "from sklearn.linear_model import RidgeCV\n",
    "from sklearn.model_selection import train_test_split\n",
    "from sklearn.metrics import r2_score\n",
    "from scipy.stats import spearmanr\n",
    "from scipy.linalg import LinAlgWarning\n",
    "from dask.distributed import Client\n",
    "\n",
    "\n",
    "warnings.filterwarnings(action=\"ignore\", category=LinAlgWarning, module=\"sklearn\")\n",
    "warnings.filterwarnings(action=\"ignore\", category=UserWarning, module=\"torch\")\n",
    "\n",
    "import pystac_client\n",
    "import planetary_computer as pc"
   ]
  },
  {
   "cell_type": "markdown",
   "id": "3cefa598-0653-4fd4-b7ce-14fb7c4e59e2",
   "metadata": {},
   "source": [
    "## Set Parameters"
   ]
  },
  {
   "cell_type": "code",
   "execution_count": 7,
   "id": "703c924c-0e57-4c63-84af-71c1b6f26933",
   "metadata": {},
   "outputs": [],
   "source": [
    "num_features = 4000\n",
    "cell_size = 2000\n",
    "geodetic_epsg = 'EPSG:4326'\n",
    "projected_epsg = 'EPSG:20935' \n",
    "country_code = 'ZMB'\n",
    "# [\n",
    "    # 'NGA', # Nigeria \n",
    "    # 'TZA', # Tanzania \n",
    "    # 'ZMB', # Zambia\n",
    "# ]"
   ]
  },
  {
   "cell_type": "markdown",
   "id": "1ae9b0ec-c334-4751-91c4-91dabff6a44a",
   "metadata": {},
   "source": [
    "## Create grid and sample points to featurize"
   ]
  },
  {
   "cell_type": "code",
   "execution_count": 8,
   "id": "b09c0e05-9ba6-407e-9260-5f9f00decc18",
   "metadata": {},
   "outputs": [
    {
     "data": {
      "text/plain": [
       "(94184, 3)"
      ]
     },
     "execution_count": 8,
     "metadata": {},
     "output_type": "execute_result"
    }
   ],
   "source": [
    "africa = geopandas.read_file('data/africa_adm0.geojson')\n",
    "country = africa[africa.adm0_a3 == country_code]\n",
    "\n",
    "# Project country into local EPSG with units in meters\n",
    "country_prj = country.to_crs(projected_epsg)\n",
    "\n",
    "# Create grid of points\n",
    "xmin, ymin, xmax, ymax = country_prj.total_bounds\n",
    "xs = list(np.arange(xmin, xmax + cell_size, cell_size))\n",
    "ys = list(np.arange(ymin, ymax + cell_size, cell_size))\n",
    "def make_cell(x, y, cell_size):\n",
    "    ring = [\n",
    "        (x, y),\n",
    "        (x + cell_size, y),\n",
    "        (x + cell_size, y + cell_size),\n",
    "        (x, y + cell_size)\n",
    "    ]\n",
    "    cell = shapely.geometry.Polygon(ring).centroid\n",
    "    return cell\n",
    "cells = []\n",
    "for x in xs:\n",
    "    for y in ys:\n",
    "        cell = make_cell(x, y, cell_size)\n",
    "        cells.append(cell)\n",
    "\n",
    "# Put grid into a GeDataFrame and select points\n",
    "grid = geopandas.GeoDataFrame({'geometry': cells}, crs = projected_epsg)\n",
    "grid['lon'] = grid.geometry.x\n",
    "grid['lat'] = grid.geometry.y\n",
    "grid['x'] = grid.groupby(['lon']).ngroup() + 1\n",
    "grid['y'] = grid.groupby(['lat']).ngroup() + 1\n",
    "grid['includepoint'] = (grid.y + grid.x) % 2 == 0 \n",
    "grid = grid[grid.includepoint]\n",
    "\n",
    "# Reproject grid and subset to country again\n",
    "gdf = grid[grid.within(country_prj.unary_union)]\n",
    "gdf = gdf.to_crs(geodetic_epsg)\n",
    "gdf['lon'] = gdf.geometry.x\n",
    "gdf['lat'] = gdf.geometry.y\n",
    "gdf = gdf[['lon', 'lat', 'geometry']].reset_index(drop = True)\n",
    "gdf.shape"
   ]
  },
  {
   "cell_type": "code",
   "execution_count": null,
   "id": "4e760114-0948-457c-890c-1069777c14ee",
   "metadata": {},
   "outputs": [],
   "source": [
    "376779"
   ]
  },
  {
   "cell_type": "markdown",
   "id": "10dc75c7-a83e-49eb-ae1b-eb30c40f23d7",
   "metadata": {},
   "source": [
    "First we define the pytorch model that we will use to extract the features and a helper method. The **MOSAIKS** methodology describes several ways to do this and we use the simplest."
   ]
  },
  {
   "cell_type": "code",
   "execution_count": 5,
   "id": "600886c1-24cd-4197-aa61-172b1606d33d",
   "metadata": {},
   "outputs": [],
   "source": [
    "class RCF(nn.Module):\n",
    "    \"\"\"A model for extracting Random Convolution Features (RCF) from input imagery.\"\"\"\n",
    "\n",
    "    def __init__(self, num_features=16, kernel_size=3, num_input_channels=3):\n",
    "        super(RCF, self).__init__()\n",
    "\n",
    "        # We create `num_features / 2` filters so require `num_features` to be divisible by 2\n",
    "        assert num_features % 2 == 0, \"Please enter an even number of features.\"\n",
    "\n",
    "        # Applies a 2D convolution over an input image composed of several input planes.\n",
    "        self.conv1 = nn.Conv2d(\n",
    "            num_input_channels,\n",
    "            num_features // 2,\n",
    "            kernel_size=kernel_size,\n",
    "            stride=1,\n",
    "            padding=0,\n",
    "            dilation=1,\n",
    "            bias=True,\n",
    "        )\n",
    "\n",
    "        # Fills the input Tensor 'conv1.weight' with values drawn from the normal distribution\n",
    "        nn.init.normal_(self.conv1.weight, mean=0.0, std=1.0)\n",
    "        \n",
    "        # Fills the input Tensor 'conv1.bias' with the value 'val = -1'.\n",
    "        nn.init.constant_(self.conv1.bias, -1.0)\n",
    "\n",
    "    def forward(self, x):\n",
    "        # The rectified linear activation function or ReLU for short is a piecewise linear function \n",
    "        # that will output the input directly if it is positive, otherwise, it will output zero.\n",
    "        x1a = F.relu(self.conv1(x), inplace=True)\n",
    "        # The below step is where we take the inverse which is appended later\n",
    "        x1b = F.relu(-self.conv1(x), inplace=True)\n",
    "\n",
    "        # Applies a 2D adaptive average pooling over an input signal composed of several input planes.\n",
    "        x1a = F.adaptive_avg_pool2d(x1a, (1, 1)).squeeze()\n",
    "        x1b = F.adaptive_avg_pool2d(x1b, (1, 1)).squeeze()\n",
    "\n",
    "        if len(x1a.shape) == 1:  # case where we passed a single input\n",
    "            return torch.cat((x1a, x1b), dim=0)\n",
    "        elif len(x1a.shape) == 2:  # case where we passed a batch of > 1 inputs\n",
    "            return torch.cat((x1a, x1b), dim=1)"
   ]
  },
  {
   "cell_type": "markdown",
   "id": "c06fbe67-d966-43dd-a2ef-af157487192f",
   "metadata": {},
   "source": [
    "Next, we initialize the model and pytorch components"
   ]
  },
  {
   "cell_type": "code",
   "execution_count": 6,
   "id": "b244448f-9b79-4c58-b779-5e8a4957c84e",
   "metadata": {},
   "outputs": [],
   "source": [
    "device = torch.device(\"cuda\")\n",
    "model = RCF(num_features).eval().to(device)"
   ]
  },
  {
   "cell_type": "markdown",
   "id": "4ef68b83-ce2e-4e70-908f-3e909337af04",
   "metadata": {},
   "source": [
    "### Extract features from the imagery around each point\n",
    "\n",
    "We need to find a suitable Sentinel 2 scene for each point. As usual, we'll use `pystac-client` to search for items matching some conditions, but we don't just want do make a `.search()` call for each of the 67,968 remaining points. Each HTTP request is relatively slow. Instead, we will *batch* or points and search *in parallel*.\n",
    "\n",
    "We need to be a bit careful with how we batch up our points though. Since a single Sentinel 2 scene will cover many points, we want to make sure that points which are spatially close together end up in the same batch. In short, we need to spatially partition the dataset. This is implemented in `dask-geopandas`.\n",
    "\n",
    "So the overall workflow will be\n",
    "\n",
    "1. Find an appropriate STAC item for each point (in parallel, using the spatially partitioned dataset)\n",
    "2. Feed the points and STAC items to a custom Dataset that can read imagery given a point and the URL of a overlapping S2 scene\n",
    "3. Use a custom Dataloader, which uses our Dataset, to feed our model imagery and save the corresponding features"
   ]
  },
  {
   "cell_type": "code",
   "execution_count": 7,
   "id": "ebfd0c2e-78fe-45a9-99a4-13112f0da841",
   "metadata": {},
   "outputs": [],
   "source": [
    "NPARTITIONS = 250\n",
    "\n",
    "ddf = dask_geopandas.from_geopandas(gdf, npartitions=1)\n",
    "hd = ddf.hilbert_distance().compute()\n",
    "gdf[\"hd\"] = hd\n",
    "gdf = gdf.sort_values(\"hd\")\n",
    "\n",
    "dgdf = dask_geopandas.from_geopandas(gdf, npartitions=NPARTITIONS, sort=False)"
   ]
  },
  {
   "cell_type": "markdown",
   "id": "2c547b64-82a9-47f7-8e7d-0a401b586c9f",
   "metadata": {},
   "source": [
    "We'll write a helper function that "
   ]
  },
  {
   "cell_type": "markdown",
   "id": "0a94fe56-e94e-4067-b957-af775fd6e7db",
   "metadata": {},
   "source": [
    "### Zambia Crop Info\n",
    "median plant:   \n",
    "date = 318  \n",
    "month = 11 (Nov)    \n",
    "\n",
    "median harvest:     \n",
    "month = 5 (May)  \n",
    "\n",
    "Season:  \n",
    "length = 7 months  "
   ]
  },
  {
   "cell_type": "code",
   "execution_count": 8,
   "id": "bb38a54c-9015-4c95-8ca9-2afad7632972",
   "metadata": {},
   "outputs": [
    {
     "name": "stdout",
     "output_type": "stream",
     "text": [
      "Matching images to points for 2016\n",
      "Featurizing year: 2016\n",
      "0/60222 -- 0.00% -- 3.57 seconds\n",
      "5000/60222 -- 8.30% -- 48.04 seconds\n",
      "10000/60222 -- 16.61% -- 52.52 seconds\n",
      "15000/60222 -- 24.91% -- 42.61 seconds\n",
      "20000/60222 -- 33.21% -- 44.71 seconds\n",
      "25000/60222 -- 41.51% -- 40.44 seconds\n",
      "30000/60222 -- 49.82% -- 33.72 seconds\n",
      "35000/60222 -- 58.12% -- 35.52 seconds\n",
      "40000/60222 -- 66.42% -- 33.88 seconds\n",
      "45000/60222 -- 74.72% -- 36.49 seconds\n",
      "50000/60222 -- 83.03% -- 32.95 seconds\n",
      "55000/60222 -- 91.33% -- 39.81 seconds\n",
      "60000/60222 -- 99.63% -- 35.91 seconds\n",
      "Saving file as: data/sentinel_2_ZMB_60k-points_2k-features_2016.feather\n",
      "Save finished!\n",
      "\n",
      "Matching images to points for 2017\n",
      "Featurizing year: 2017\n",
      "0/59117 -- 0.00% -- 0.44 seconds\n",
      "5000/59117 -- 8.46% -- 49.76 seconds\n",
      "10000/59117 -- 16.92% -- 46.39 seconds\n",
      "15000/59117 -- 25.37% -- 42.18 seconds\n",
      "20000/59117 -- 33.83% -- 42.40 seconds\n",
      "25000/59117 -- 42.29% -- 47.37 seconds\n",
      "30000/59117 -- 50.75% -- 43.21 seconds\n",
      "35000/59117 -- 59.20% -- 44.20 seconds\n",
      "40000/59117 -- 67.66% -- 40.01 seconds\n",
      "45000/59117 -- 76.12% -- 43.16 seconds\n",
      "50000/59117 -- 84.58% -- 43.51 seconds\n",
      "55000/59117 -- 93.04% -- 46.89 seconds\n",
      "Saving file as: data/sentinel_2_ZMB_59k-points_2k-features_2017.feather\n",
      "Save finished!\n",
      "\n",
      "Matching images to points for 2018\n",
      "Featurizing year: 2018\n",
      "0/60283 -- 0.00% -- 0.50 seconds\n",
      "5000/60283 -- 8.29% -- 51.92 seconds\n",
      "10000/60283 -- 16.59% -- 45.99 seconds\n",
      "15000/60283 -- 24.88% -- 42.38 seconds\n",
      "20000/60283 -- 33.18% -- 42.24 seconds\n",
      "25000/60283 -- 41.47% -- 41.28 seconds\n",
      "30000/60283 -- 49.77% -- 41.08 seconds\n",
      "35000/60283 -- 58.06% -- 42.12 seconds\n",
      "40000/60283 -- 66.35% -- 48.15 seconds\n",
      "45000/60283 -- 74.65% -- 44.28 seconds\n",
      "50000/60283 -- 82.94% -- 42.54 seconds\n",
      "55000/60283 -- 91.24% -- 46.99 seconds\n",
      "60000/60283 -- 99.53% -- 48.12 seconds\n",
      "Saving file as: data/sentinel_2_ZMB_60k-points_2k-features_2018.feather\n",
      "Save finished!\n",
      "\n",
      "CPU times: user 14min 24s, sys: 39.8 s, total: 15min 4s\n",
      "Wall time: 27min 45s\n"
     ]
    }
   ],
   "source": [
    "%%time\n",
    "for yr in range(2016, 2019):\n",
    "    def query(points):\n",
    "        \"\"\"\n",
    "        Find a STAC item for points in the `points` DataFrame\n",
    "\n",
    "        Parameters\n",
    "        ----------\n",
    "        points : geopandas.GeoDataFrame\n",
    "            A GeoDataFrame\n",
    "\n",
    "        Returns\n",
    "        -------\n",
    "        geopandas.GeoDataFrame\n",
    "            A new geopandas.GeoDataFrame with a `stac_item` column containing the STAC\n",
    "            item that covers each point.\n",
    "        \"\"\"\n",
    "        intersects = shapely.geometry.mapping(points.unary_union.convex_hull)\n",
    "\n",
    "        # search_start = f\"{yr - 1}-11-01\"\n",
    "        search_start = f\"{yr}-03-01\"\n",
    "        search_end = f\"{yr}-05-30\"\n",
    "        catalog = pystac_client.Client.open(\n",
    "            \"https://planetarycomputer.microsoft.com/api/stac/v1\"\n",
    "        )\n",
    "\n",
    "        # The time frame in which we search for non-cloudy imagery\n",
    "        search = catalog.search(\n",
    "            collections=[\"sentinel-2-l2a\"],\n",
    "            intersects=intersects,\n",
    "            datetime=[search_start, search_end],\n",
    "            query={\"eo:cloud_cover\": {\"lt\": 10}},\n",
    "            limit=500,\n",
    "        )\n",
    "        ic = search.get_all_items_as_dict()\n",
    "\n",
    "        features = ic[\"features\"]\n",
    "        features_d = {item[\"id\"]: item for item in features}\n",
    "\n",
    "        data = {\n",
    "            \"eo:cloud_cover\": [],\n",
    "            \"geometry\": [],\n",
    "        }\n",
    "\n",
    "        index = []\n",
    "\n",
    "        for item in features:\n",
    "            data[\"eo:cloud_cover\"].append(item[\"properties\"][\"eo:cloud_cover\"])\n",
    "            data[\"geometry\"].append(shapely.geometry.shape(item[\"geometry\"]))\n",
    "            index.append(item[\"id\"])\n",
    "\n",
    "        items = geopandas.GeoDataFrame(data, index=index, geometry=\"geometry\").sort_values(\n",
    "            \"eo:cloud_cover\"\n",
    "        )\n",
    "        point_list = points.geometry.tolist()\n",
    "\n",
    "        point_items = []\n",
    "        for point in point_list:\n",
    "            covered_by = items[items.covers(point)]\n",
    "            if len(covered_by):\n",
    "                point_items.append(features_d[covered_by.index[0]])\n",
    "            else:\n",
    "                # There weren't any scenes matching our conditions for this point (too cloudy)\n",
    "                point_items.append(None)\n",
    "\n",
    "        return points.assign(stac_item=point_items)\n",
    "    \n",
    "    print(\"Matching images to points for\", yr)\n",
    "    \n",
    "    with Client(n_workers=16) as client:\n",
    "        meta = dgdf._meta.assign(stac_item=[])\n",
    "        df2 = dgdf.map_partitions(query, meta=meta).compute()\n",
    "    df3 = df2.dropna(subset=[\"stac_item\"])\n",
    "\n",
    "    matching_urls = [\n",
    "        pc.sign(item[\"assets\"][\"visual\"][\"href\"]) for item in df3.stac_item.tolist()\n",
    "    ]\n",
    "\n",
    "    points = df3[[\"lon\", \"lat\"]].to_numpy()\n",
    "\n",
    "    class CustomDataset(Dataset):\n",
    "        def __init__(self, points, fns, buffer=500):\n",
    "            self.points = points\n",
    "            self.fns = fns\n",
    "            self.buffer = buffer\n",
    "\n",
    "        def __len__(self):\n",
    "            return self.points.shape[0]\n",
    "\n",
    "        def __getitem__(self, idx):\n",
    "\n",
    "            lon, lat = self.points[idx]\n",
    "            fn = self.fns[idx]\n",
    "\n",
    "            if fn is None:\n",
    "                return None\n",
    "            else:\n",
    "                point_geom = shapely.geometry.mapping(shapely.geometry.Point(lon, lat))\n",
    "\n",
    "                with rasterio.Env():\n",
    "                    with rasterio.open(fn, \"r\") as f:\n",
    "                        point_geom = rasterio.warp.transform_geom(\n",
    "                            \"epsg:4326\", f.crs.to_string(), point_geom\n",
    "                        )\n",
    "                        point_shape = shapely.geometry.shape(point_geom)\n",
    "                        mask_shape = point_shape.buffer(self.buffer).envelope\n",
    "                        mask_geom = shapely.geometry.mapping(mask_shape)\n",
    "                        try:\n",
    "                            out_image, out_transform = rasterio.mask.mask(\n",
    "                                f, [mask_geom], crop=True\n",
    "                            )\n",
    "                        except ValueError as e:\n",
    "                            if \"Input shapes do not overlap raster.\" in str(e):\n",
    "                                return None\n",
    "\n",
    "                out_image = out_image / 255.0\n",
    "                out_image = torch.from_numpy(out_image).float()\n",
    "                return out_image\n",
    "    dataset = CustomDataset(points, matching_urls)\n",
    "\n",
    "    dataloader = DataLoader(\n",
    "        dataset,\n",
    "        batch_size=8,\n",
    "        shuffle=False,\n",
    "        num_workers=os.cpu_count(),\n",
    "        collate_fn=lambda x: x,\n",
    "        pin_memory=False,\n",
    "    )\n",
    "    \n",
    "    x_all = np.zeros((points.shape[0], num_features), dtype=float)\n",
    "    tic = time.time()\n",
    "    i = 0\n",
    "    \n",
    "    print(\"Featurizing year:\", yr)\n",
    "    for images in dataloader:\n",
    "        for image in images:\n",
    "            if i % 5000 == 0:\n",
    "                print(\n",
    "                    f\"{i}/{points.shape[0]} -- {i / points.shape[0] * 100:0.2f}%\"\n",
    "                    + f\" -- {time.time()-tic:0.2f} seconds\"\n",
    "                )\n",
    "                tic = time.time()\n",
    "            if image is not None:\n",
    "                # A full image should be ~101x101 pixels (i.e. ~1km^2 at a 10m/px spatial\n",
    "                # resolution), however we can receive smaller images if an input point\n",
    "                # happens to be at the edge of a S2 scene (a literal edge case). To deal\n",
    "                # with these (edge) cases we crudely drop all images where the spatial\n",
    "                # dimensions aren't both greater than 20 pixels.\n",
    "                if image.shape[1] >= 20 and image.shape[2] >= 20:\n",
    "                    image = image.to(device)\n",
    "                    with torch.no_grad():\n",
    "                        feats = model(image.unsqueeze(0)).cpu().numpy()\n",
    "                    x_all[i] = feats\n",
    "                else:\n",
    "                    # this happens if the point is close to the edge of a scene\n",
    "                    # (one or both of the spatial dimensions of the image are very small)\n",
    "                    pass\n",
    "            else:\n",
    "                pass  # this happens if we do not find a S2 scene for some point\n",
    "            i += 1\n",
    "    features = pd.DataFrame(x_all)\n",
    "    features[[\"lon\", \"lat\"]] = points.tolist()\n",
    "    features['year'] = yr\n",
    "    features.columns = features.columns.astype(str)\n",
    "    \n",
    "    # Save the features to a feather file\n",
    "    file_name = (f'data/sentinel_2_{country_code}_{len(points)/1000:.0f}'+\n",
    "                 f'k-points_{round(num_features, -4)}k-features_{yr}.feather')\n",
    "    # file_name = f'data/features_{yr}.feather'\n",
    "    print(\"Saving file as:\", file_name)\n",
    "    features.to_feather(file_name)\n",
    "    print(\"Save finished!\")\n",
    "    \n",
    "    # Free memory before loop iterates\n",
    "    del x_all\n",
    "    del features\n",
    "    gc.collect()\n",
    "    print(\"\")"
   ]
  },
  {
   "cell_type": "code",
   "execution_count": 9,
   "id": "7ad58a64-b676-43c4-b39b-0a6d27d0d789",
   "metadata": {},
   "outputs": [
    {
     "data": {
      "text/plain": [
       "'data/sentinel_2_ZMB_60k-points_2k-features_2018.feather'"
      ]
     },
     "execution_count": 9,
     "metadata": {},
     "output_type": "execute_result"
    }
   ],
   "source": [
    "f'data/sentinel_2_{country_code}_{len(points)/1000:.0f}'+\\\n",
    " f'k-points_{num_features/1000:.0f}k-features_{yr}.feather'"
   ]
  },
  {
   "cell_type": "code",
   "execution_count": 10,
   "id": "cc5ab635-5e23-4422-b6b8-98b245a389c6",
   "metadata": {},
   "outputs": [
    {
     "data": {
      "text/plain": [
       "60283"
      ]
     },
     "execution_count": 10,
     "metadata": {},
     "output_type": "execute_result"
    }
   ],
   "source": [
    "len(points)"
   ]
  },
  {
   "cell_type": "code",
   "execution_count": 11,
   "id": "cdc1a4c1-8053-4a7f-a223-a78925f83eeb",
   "metadata": {},
   "outputs": [],
   "source": [
    "# import seaborn as sns\n",
    "# plt.figure(figsize = (15,10))\n",
    "# sns.heatmap(features_df, annot=False, cmap = 'viridis')"
   ]
  },
  {
   "cell_type": "code",
   "execution_count": 12,
   "id": "749c229e-9bd5-4d91-9bdb-39b9c7c7f2ad",
   "metadata": {},
   "outputs": [],
   "source": [
    "# file_name = f'data/features_{year}.feather'\n",
    "# features.to_feather(file_name)"
   ]
  },
  {
   "cell_type": "code",
   "execution_count": 13,
   "id": "b300c83d-9263-4400-9406-9318bad844f1",
   "metadata": {},
   "outputs": [],
   "source": [
    "# plt.figure(figsize = (15,15))\n",
    "# plt.scatter(features.lon, features.lat, c = features['998'], cmap = 'viridis', s = 4, alpha = 1)"
   ]
  },
  {
   "cell_type": "code",
   "execution_count": 14,
   "id": "d6c512d8-ccde-49ca-83d6-08ed0c80f1ef",
   "metadata": {},
   "outputs": [],
   "source": [
    "# features_2 = features.copy()\n",
    "# features_2['total'] = features.iloc[:, 0:-3].mean(axis=1)\n",
    "# features_2"
   ]
  },
  {
   "cell_type": "code",
   "execution_count": 15,
   "id": "d4893848-e2c3-4e53-8d45-a708949be395",
   "metadata": {},
   "outputs": [],
   "source": [
    "# plt.figure(figsize = (15,15))\n",
    "# plt.scatter(features_2.lon, features_2.lat, c = features_2['total'], cmap = 'viridis', s = 1, alpha = 1)"
   ]
  },
  {
   "cell_type": "code",
   "execution_count": null,
   "id": "1e769be5-e811-40a0-a27a-8c26dab2a29d",
   "metadata": {},
   "outputs": [],
   "source": []
  }
 ],
 "metadata": {
  "kernelspec": {
   "display_name": "Python 3 (ipykernel)",
   "language": "python",
   "name": "python3"
  },
  "language_info": {
   "codemirror_mode": {
    "name": "ipython",
    "version": 3
   },
   "file_extension": ".py",
   "mimetype": "text/x-python",
   "name": "python",
   "nbconvert_exporter": "python",
   "pygments_lexer": "ipython3",
   "version": "3.8.12"
  }
 },
 "nbformat": 4,
 "nbformat_minor": 5
}
